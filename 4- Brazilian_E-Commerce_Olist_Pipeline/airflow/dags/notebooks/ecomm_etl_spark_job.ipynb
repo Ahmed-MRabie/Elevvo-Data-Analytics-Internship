{
 "cells": [
  {
   "cell_type": "code",
   "execution_count": 1,
   "id": "f4224b9e-d5be-4f98-998e-9423d3ab12ca",
   "metadata": {},
   "outputs": [],
   "source": [
    "from pyspark.sql import SparkSession\n",
    "from pyspark.sql.functions import *"
   ]
  },
  {
   "cell_type": "code",
   "execution_count": 2,
   "id": "e48e5047-a4df-4af0-b37f-7da274b5df58",
   "metadata": {},
   "outputs": [
    {
     "name": "stderr",
     "output_type": "stream",
     "text": [
      "Setting default log level to \"WARN\".\n",
      "To adjust logging level use sc.setLogLevel(newLevel). For SparkR, use setLogLevel(newLevel).\n",
      "25/09/02 13:40:25 WARN NativeCodeLoader: Unable to load native-hadoop library for your platform... using builtin-java classes where applicable\n"
     ]
    }
   ],
   "source": [
    "spark = SparkSession.builder \\\n",
    "    .appName(\"Ecommerce-ETL\") \\\n",
    "    .config(\"spark.sql.extensions\", \"io.delta.sql.DeltaSparkSessionExtension\") \\\n",
    "    .config(\"spark.sql.catalog.spark_catalog\", \"org.apache.spark.sql.delta.catalog.DeltaCatalog\") \\\n",
    "    .config(\"spark.hadoop.fs.s3a.endpoint\", \"http://minio:9000\") \\\n",
    "    .config(\"spark.hadoop.fs.s3a.access.key\", \"minio\") \\\n",
    "    .config(\"spark.hadoop.fs.s3a.secret.key\", \"minio123\") \\\n",
    "    .config(\"spark.hadoop.fs.s3a.path.style.access\", \"true\") \\\n",
    "    .config(\"spark.hadoop.fs.s3a.impl\", \"org.apache.hadoop.fs.s3a.S3AFileSystem\") \\\n",
    "    .config(\"spark.driver.memory\", \"4g\") \\\n",
    "    .config(\"spark.executor.memory\", \"4g\") \\\n",
    "    .config(\"spark.executor.memoryOverhead\", \"2g\") \\\n",
    "    .config(\"spark.driver.memoryOverhead\", \"2g\") \\\n",
    "    .getOrCreate()\n"
   ]
  },
  {
   "cell_type": "markdown",
   "id": "f26de258",
   "metadata": {},
   "source": [
    "## **Extract Data From MinIO**"
   ]
  },
  {
   "cell_type": "code",
   "execution_count": 5,
   "id": "f06382e5",
   "metadata": {},
   "outputs": [
    {
     "name": "stderr",
     "output_type": "stream",
     "text": [
      "                                                                                \r"
     ]
    }
   ],
   "source": [
    "df_order                          = spark.read.format(\"csv\").option(\"header\", \"true\").option(\"inferSchema\", \"true\").load(\"s3a://ecommerce-raw/olist_orders_dataset.csv\")\n",
    "df_customers                      = spark.read.format(\"csv\").option(\"header\", \"true\").option(\"inferSchema\", \"true\").load(\"s3a://ecommerce-raw/olist_customers_dataset.csv\")\n",
    "df_order_items                    = spark.read.format(\"csv\").option(\"header\", \"true\").option(\"inferSchema\", \"true\").load(\"s3a://ecommerce-raw/olist_order_items_dataset.csv\")\n",
    "df_order_reviews                  = spark.read.format(\"csv\").option(\"header\", \"true\").option(\"inferSchema\", \"true\").load(\"s3a://ecommerce-raw/olist_order_reviews_dataset.csv\")\n",
    "df_order_payments                 = spark.read.format(\"csv\").option(\"header\", \"true\").option(\"inferSchema\", \"true\").load(\"s3a://ecommerce-raw/olist_order_payments_dataset.csv\")\n",
    "df_products                       = spark.read.format(\"csv\").option(\"header\", \"true\").option(\"inferSchema\", \"true\").load(\"s3a://ecommerce-raw/olist_products_dataset.csv\")\n",
    "df_sellers                        = spark.read.format(\"csv\").option(\"header\", \"true\").option(\"inferSchema\", \"true\").load(\"s3a://ecommerce-raw/olist_sellers_dataset.csv\")\n",
    "df_geolocation                    = spark.read.format(\"csv\").option(\"header\", \"true\").option(\"inferSchema\", \"true\").load(\"s3a://ecommerce-raw/olist_geolocation_dataset.csv\")\n",
    "df_product_category_translation   = spark.read.format(\"csv\").option(\"header\", \"true\").option(\"inferSchema\", \"true\").load(\"s3a://ecommerce-raw/product_category_name_translation.csv\")"
   ]
  },
  {
   "cell_type": "markdown",
   "id": "1bff8b57",
   "metadata": {},
   "source": [
    "## **Customers Cleaning**"
   ]
  },
  {
   "cell_type": "code",
   "execution_count": null,
   "id": "eb0d4daa-2561-4993-b05f-c792503af2cc",
   "metadata": {},
   "outputs": [
    {
     "name": "stdout",
     "output_type": "stream",
     "text": [
      "root\n",
      " |-- customer_id: string (nullable = true)\n",
      " |-- customer_unique_id: string (nullable = true)\n",
      " |-- customer_zip_code_prefix: integer (nullable = true)\n",
      " |-- customer_city: string (nullable = true)\n",
      " |-- customer_state: string (nullable = true)\n",
      "\n"
     ]
    }
   ],
   "source": [
    "df_customers.printSchema()"
   ]
  },
  {
   "cell_type": "code",
   "execution_count": 10,
   "id": "ca708ee6-3dec-4d37-9ccc-a473fbec9046",
   "metadata": {},
   "outputs": [
    {
     "name": "stderr",
     "output_type": "stream",
     "text": [
      "                                                                                \r"
     ]
    },
    {
     "name": "stdout",
     "output_type": "stream",
     "text": [
      "+--------------------------------+--------------------------------+------------------------+-----------------------+--------------+\n",
      "|customer_id                     |customer_unique_id              |customer_zip_code_prefix|customer_city          |customer_state|\n",
      "+--------------------------------+--------------------------------+------------------------+-----------------------+--------------+\n",
      "|2f29573c8cac5a7be11c5b649078f944|0006fdc98a402fceb4eb0ee528f6a8d4|29400                   |mimoso do sul          |ES            |\n",
      "|40f0183f7439212e8ce53dc6103dfb2f|00090324bbad0e9342388303bb71ba0a|13054                   |campinas               |SP            |\n",
      "|0e114b02a45c9876080f3a9a19f51c16|000c8bdb58a29e7115cfc257230fb21b|31555                   |belo horizonte         |MG            |\n",
      "|064064dd94c43013786fc1e1a14d6374|00115fc7123b5310cf6d3a3aa932699e|71015                   |brasilia               |DF            |\n",
      "|063a5ea8e53ff62d2547c8af92ba02b2|0023557a94bef0038066b5d1b3dc763e|15105                   |potirendaba            |SP            |\n",
      "|b2ed81c59896b239367d9c2722f242ae|002d71b244beb91ca7030b15ab526446|18900                   |santa cruz do rio pardo|SP            |\n",
      "|e6428b88ea8513d718bb4199f280cd77|003800162424b7b5b3d75c9cf22a66e7|44059                   |feira de santana       |BA            |\n",
      "|fab24554bc9a6b466c61b9f4c0f4b7d9|00391594070baf8603f5fdc1d0c6a48c|16021                   |aracatuba              |SP            |\n",
      "|f6efe5d5c7b85e12355f9d5c3db46da2|004288347e5e88a27ded2bb23747066c|26220                   |nova iguacu            |RJ            |\n",
      "|245f25690dd45fbd1e15f4941d9a6439|0042dfa8925d6eb23e471ec350454f04|13175                   |sumare                 |SP            |\n",
      "+--------------------------------+--------------------------------+------------------------+-----------------------+--------------+\n",
      "only showing top 10 rows\n",
      "\n"
     ]
    }
   ],
   "source": [
    "\n",
    "# ----------------------------------\n",
    "# Step 1: remove duplicates based on customer_id\n",
    "# ----------------------------------\n",
    "customers_clean = df_customers.dropDuplicates([\"customer_id\"])\n",
    "\n",
    "# ----------------------------------\n",
    "# Step 2: validate zip (must have 5 digits) and state (must have 2 letters)\n",
    "# ----------------------------------\n",
    "customers_clean = customers_clean.filter(length(\"customer_zip_code_prefix\") == 5)\n",
    "customers_clean = customers_clean.filter(length(\"customer_state\") == 2)\n",
    "\n",
    "# ----------------------------------\n",
    "# Step 3: basic cleaning for customer_city\n",
    "# - lowercase\n",
    "# - trim extra spaces\n",
    "# - remove special characters\n",
    "# ----------------------------------\n",
    "customers_clean = customers_clean.withColumn(\n",
    "    \"customer_city\",\n",
    "    lower(trim(regexp_replace(col(\"customer_city\"), \"[^a-zA-ZÀ-ÿ ]\", \"\")))\n",
    ")\n",
    "\n",
    "# ----------------------------------\n",
    "# Step 4: fix common misspellings and inconsistent forms\n",
    "# ----------------------------------\n",
    "customers_clean = customers_clean.withColumn(\n",
    "    \"customer_city\",\n",
    "    regexp_replace(col(\"customer_city\"), \"\\\\bd['\\\\s]o\\\\b\", \" do \")\n",
    ")\n",
    "\n",
    "corrections = {\n",
    "    \"sao jorge d oeste\": \"sao jorge do oeste\",\n",
    "    \"estrela d oeste\": \"estrela do oeste\", \n",
    "    \"palma d oeste\": \"palma do oeste\",\n",
    "    \"sao jorge d'oeste\": \"sao jorge do oeste\",\n",
    "    \"estrela d'oeste\": \"estrela do oeste\",\n",
    "    \"palma d'oeste\": \"palma do oeste\",\n",
    "    \"alvorada d'oeste\": \"alvorada do oeste\",\n",
    "    \"diamante d'oeste\": \"diamante do oeste\",\n",
    "    \"rancho alegre d'oeste\": \"rancho alegre do oeste\",\n",
    "    \"bandeirantes d'oeste\": \"bandeirantes do oeste\",\n",
    "    \"santa clara d'oeste\": \"santa clara do oeste\",\n",
    "    \"santa rita d'oeste\": \"santa rita do oeste\",\n",
    "    \"aparecida d'oeste\": \"aparecida do oeste\",\n",
    "    \"palmeira d oeste\": \"palmeira do oeste\",\n",
    "    \"palmeira d'oeste\": \"palmeira do oeste\",\n",
    "    'sao paulo - sp': 'sao paulo',\n",
    "    'sao paulo sp': 'sao paulo',\n",
    "    'sp': 'sao paulo',\n",
    "    'sao  paulo': 'sao paulo',\n",
    "    'sao pauo': 'sao paulo',\n",
    "    'sao paulop': 'sao paulo',\n",
    "    'sao paulo': 'sao paulo',\n",
    "    'sbc': 'sao bernardo do campo',\n",
    "    'sbc/sp': 'sao bernardo do campo',\n",
    "    'riberao preto': 'ribeirao preto',\n",
    "    'robeirao preto': 'ribeirao preto',\n",
    "    'ribeirao pretp': 'ribeirao preto',\n",
    "    'sando andre': 'santo andre',\n",
    "    'ao bernardo do campo': 'sao bernardo do campo',\n",
    "    'garulhos': 'guarulhos',\n",
    "    'brasilia df': 'brasilia',\n",
    "    'rio de janeiro / rio de janeiro': 'rio de janeiro',\n",
    "    'rio de janeiro, rio de janeiro, brasil': 'rio de janeiro',\n",
    "    'mogi das cruses': 'mogi das cruzes',\n",
    "    'mogi das cruzes / sp': 'mogi das cruzes',\n",
    "    'santo andre/sao paulo': 'santo andre',\n",
    "    \"santa barbara d´oeste\": \"santa barbara d'oeste\",\n",
    "    \"santa barbara d oeste\": \"santa barbara d'oeste\",\n",
    "    'belo horizont': 'belo horizonte',\n",
    "    'cascavael': 'cascavel',\n",
    "    'floranopolis': 'florianopolis',\n",
    "}\n",
    "\n",
    "for wrong, correct in corrections.items():\n",
    "    customers_clean = customers_clean.withColumn(\n",
    "        \"customer_city\",\n",
    "        when(col(\"customer_city\") == wrong, correct).otherwise(col(\"customer_city\"))\n",
    "    )\n",
    "\n",
    "# ----------------------------------\n",
    "# Step 5: handle missing values (replace with placeholder)\n",
    "# ----------------------------------\n",
    "customers_clean = customers_clean.fillna({\n",
    "    \"customer_city\": \"unknown\",\n",
    "    \"customer_state\": \"unknown\",\n",
    "    \"customer_zip_code_prefix\": \"00000\"\n",
    "})\n",
    "\n",
    "# ----------------------------------\n",
    "# Step 6: drop duplicates again after corrections (based on unique customer)\n",
    "# ----------------------------------\n",
    "customers_clean = customers_clean.dropDuplicates([\"customer_unique_id\"])\n",
    "\n",
    "# ----------------------------------\n",
    "# Final check\n",
    "# ----------------------------------\n",
    "customers_clean.show(10, truncate=False)"
   ]
  },
  {
   "cell_type": "markdown",
   "id": "6d90e979",
   "metadata": {},
   "source": [
    "## **Orders Cleaning**"
   ]
  },
  {
   "cell_type": "code",
   "execution_count": 12,
   "id": "4a2fa5fa",
   "metadata": {},
   "outputs": [
    {
     "name": "stdout",
     "output_type": "stream",
     "text": [
      "root\n",
      " |-- order_id: string (nullable = true)\n",
      " |-- customer_id: string (nullable = true)\n",
      " |-- order_status: string (nullable = true)\n",
      " |-- order_purchase_timestamp: timestamp (nullable = true)\n",
      " |-- order_approved_at: timestamp (nullable = true)\n",
      " |-- order_delivered_carrier_date: timestamp (nullable = true)\n",
      " |-- order_delivered_customer_date: timestamp (nullable = true)\n",
      " |-- order_estimated_delivery_date: timestamp (nullable = true)\n",
      "\n"
     ]
    }
   ],
   "source": [
    "df_order.printSchema()"
   ]
  },
  {
   "cell_type": "code",
   "execution_count": 13,
   "id": "c3788896",
   "metadata": {},
   "outputs": [
    {
     "name": "stderr",
     "output_type": "stream",
     "text": [
      "                                                                                \r"
     ]
    },
    {
     "name": "stdout",
     "output_type": "stream",
     "text": [
      "+--------------------------------+--------------------------------+------------+------------------------+-------------------+----------------------------+-----------------------------+-----------------------------+-------------+--------------+---------------+\n",
      "|order_id                        |customer_id                     |order_status|order_purchase_timestamp|order_approved_at  |order_delivered_carrier_date|order_delivered_customer_date|order_estimated_delivery_date|shipping_days|delivery_delay|delivery_status|\n",
      "+--------------------------------+--------------------------------+------------+------------------------+-------------------+----------------------------+-----------------------------+-----------------------------+-------------+--------------+---------------+\n",
      "|e481f51cbdc54678b7cc49136f2d6af7|9ef432eb6251297304e76186b10a928d|delivered   |2017-10-02 10:56:33     |2017-10-02 11:07:15|2017-10-04 19:55:00         |2017-10-10 21:25:13          |2017-10-18 00:00:00          |8            |-8            |on_time        |\n",
      "|53cdb2fc8bc7dce0b6741e2150273451|b0830fb4747a6c6d20dea0b8c802d7ef|delivered   |2018-07-24 20:41:37     |2018-07-26 03:24:27|2018-07-26 14:31:00         |2018-08-07 15:27:45          |2018-08-13 00:00:00          |14           |-6            |on_time        |\n",
      "|47770eb9100c2d0c44946d9cf07ec65d|41ce2a54c0b03bf3443c3d931a367089|delivered   |2018-08-08 08:38:49     |2018-08-08 08:55:23|2018-08-08 13:50:00         |2018-08-17 18:06:29          |2018-09-04 00:00:00          |9            |-18           |on_time        |\n",
      "|949d5b44dbf5de918fe9c16f97b45f8a|f88197465ea7920adcdbec7375364d82|delivered   |2017-11-18 19:28:06     |2017-11-18 19:45:59|2017-11-22 13:39:59         |2017-12-02 00:28:42          |2017-12-15 00:00:00          |14           |-13           |on_time        |\n",
      "|ad21c59c0840e6cb83a9ceb5573f8159|8ab97904e6daea8866dbdbc4fb7aad2c|delivered   |2018-02-13 21:18:39     |2018-02-13 22:20:29|2018-02-14 19:46:34         |2018-02-16 18:17:02          |2018-02-26 00:00:00          |3            |-10           |on_time        |\n",
      "|a4591c265e18cb1dcee52889e2d8acc3|503740e9ca751ccdda7ba28e9ab8f608|delivered   |2017-07-09 21:57:05     |2017-07-09 22:10:13|2017-07-11 14:58:04         |2017-07-26 10:57:55          |2017-08-01 00:00:00          |17           |-6            |on_time        |\n",
      "|136cce7faa42fdb2cefd53fdc79a6098|ed0271e0b7da060a393796590e7b737a|invoiced    |2017-04-11 12:22:08     |2017-04-13 13:25:17|null                        |null                         |2017-05-09 00:00:00          |null         |null          |delayed        |\n",
      "|6514b8ad8028c9f2cc2374ded245783f|9bdf08b4b3b52b5526ff42d37d47f222|delivered   |2017-05-16 13:10:30     |2017-05-16 13:22:11|2017-05-22 10:07:46         |2017-05-26 12:55:51          |2017-06-07 00:00:00          |10           |-12           |on_time        |\n",
      "|76c6e866289321a7c93b82b54852dc33|f54a9f0e6b351c431402b8461ea51999|delivered   |2017-01-23 18:29:09     |2017-01-25 02:50:47|2017-01-26 14:16:31         |2017-02-02 14:08:10          |2017-03-06 00:00:00          |10           |-32           |on_time        |\n",
      "|e69bfb5eb88e0ed6a785585b27e16dbf|31ad1d1b63eb9962463f764d4e6e0c9d|delivered   |2017-07-29 11:55:02     |2017-07-29 12:05:32|2017-08-10 19:45:24         |2017-08-16 17:14:30          |2017-08-23 00:00:00          |18           |-7            |on_time        |\n",
      "+--------------------------------+--------------------------------+------------+------------------------+-------------------+----------------------------+-----------------------------+-----------------------------+-------------+--------------+---------------+\n",
      "only showing top 10 rows\n",
      "\n"
     ]
    }
   ],
   "source": [
    "# =======================================================\n",
    "# Step 1: Filter out invalid order statuses\n",
    "# - \"created\" and \"approved\" are not actual completed orders\n",
    "# - keep only meaningful statuses\n",
    "# =======================================================\n",
    "valid_statuses = [\"delivered\", \"shipped\", \"invoiced\", \"processing\", \"canceled\", \"unavailable\"]\n",
    "orders_clean = df_order.filter(col(\"order_status\").isin(valid_statuses))\n",
    "\n",
    "# =======================================================\n",
    "# Step 2: Calculate shipping_days\n",
    "# (time between purchase and actual customer delivery)\n",
    "# =======================================================\n",
    "orders_clean = orders_clean.withColumn(\n",
    "    \"shipping_days\",\n",
    "    datediff(\"order_delivered_customer_date\", \"order_purchase_timestamp\")\n",
    ")\n",
    "\n",
    "# Remove negative or unrealistic shipping days\n",
    "orders_clean = orders_clean.withColumn(\n",
    "    \"shipping_days\",\n",
    "    when(col(\"shipping_days\") < 0, None).otherwise(col(\"shipping_days\"))\n",
    ")\n",
    "\n",
    "# =======================================================\n",
    "# Step 3: Calculate delivery_delay\n",
    "# (difference between actual delivery and estimated delivery date)\n",
    "# =======================================================\n",
    "orders_clean = orders_clean.withColumn(\n",
    "    \"delivery_delay\",\n",
    "    datediff(\"order_delivered_customer_date\", \"order_estimated_delivery_date\")\n",
    ")\n",
    "\n",
    "# =======================================================\n",
    "# Step 4: Add delivery_status flag\n",
    "# - \"on_time\" if delivered on or before estimated date\n",
    "# - \"delayed\" otherwise\n",
    "# =======================================================\n",
    "orders_clean = orders_clean.withColumn(\n",
    "    \"delivery_status\",\n",
    "    when(col(\"delivery_delay\") <= 0, \"on_time\").otherwise(\"delayed\")\n",
    ")\n",
    "\n",
    "# =======================================================\n",
    "# Step 5: Ensure logical consistency in dates\n",
    "# (delivered date must be >= purchase date OR null)\n",
    "# =======================================================\n",
    "orders_clean = orders_clean.filter(\n",
    "    (col(\"order_delivered_customer_date\").isNull()) |\n",
    "    (col(\"order_delivered_customer_date\") >= col(\"order_purchase_timestamp\"))\n",
    ")\n",
    "\n",
    "# =======================================================\n",
    "# Final check\n",
    "# =======================================================\n",
    "orders_clean.show(10, truncate=False)"
   ]
  },
  {
   "cell_type": "code",
   "execution_count": 15,
   "id": "1f640f23",
   "metadata": {},
   "outputs": [
    {
     "name": "stdout",
     "output_type": "stream",
     "text": [
      "root\n",
      " |-- order_id: string (nullable = true)\n",
      " |-- customer_id: string (nullable = true)\n",
      " |-- order_status: string (nullable = true)\n",
      " |-- order_purchase_timestamp: timestamp (nullable = true)\n",
      " |-- order_approved_at: timestamp (nullable = true)\n",
      " |-- order_delivered_carrier_date: timestamp (nullable = true)\n",
      " |-- order_delivered_customer_date: timestamp (nullable = true)\n",
      " |-- order_estimated_delivery_date: timestamp (nullable = true)\n",
      " |-- shipping_days: integer (nullable = true)\n",
      " |-- delivery_delay: integer (nullable = true)\n",
      " |-- delivery_status: string (nullable = false)\n",
      "\n"
     ]
    }
   ],
   "source": [
    "orders_clean.printSchema()"
   ]
  },
  {
   "cell_type": "markdown",
   "id": "4b029f1f",
   "metadata": {},
   "source": [
    "## **Orders Items Cleaning**"
   ]
  },
  {
   "cell_type": "code",
   "execution_count": 16,
   "id": "6ffd3da8",
   "metadata": {},
   "outputs": [
    {
     "name": "stdout",
     "output_type": "stream",
     "text": [
      "root\n",
      " |-- order_id: string (nullable = true)\n",
      " |-- order_item_id: integer (nullable = true)\n",
      " |-- product_id: string (nullable = true)\n",
      " |-- seller_id: string (nullable = true)\n",
      " |-- shipping_limit_date: timestamp (nullable = true)\n",
      " |-- price: double (nullable = true)\n",
      " |-- freight_value: double (nullable = true)\n",
      "\n"
     ]
    }
   ],
   "source": [
    "df_order_items.printSchema()"
   ]
  },
  {
   "cell_type": "code",
   "execution_count": 17,
   "id": "6ee8465e",
   "metadata": {},
   "outputs": [
    {
     "name": "stderr",
     "output_type": "stream",
     "text": [
      "                                                                                \r"
     ]
    },
    {
     "name": "stdout",
     "output_type": "stream",
     "text": [
      "+--------------------------------+-------------+--------------------------------+--------------------------------+-------------------+-----+-------------+------------+----------------+------------------+-------------------+\n",
      "|order_id                        |order_item_id|product_id                      |seller_id                       |shipping_limit_date|price|freight_value|item_revenue|shipping_revenue|total_cost        |freight_percentage |\n",
      "+--------------------------------+-------------+--------------------------------+--------------------------------+-------------------+-----+-------------+------------+----------------+------------------+-------------------+\n",
      "|00018f77f2f0320c557190d7a144bdd3|1            |e5f2d52b802189ee658865ca93d83a8f|dd7ddc04e1b6c2c614352b383efe2d36|2017-05-03 11:05:13|239.9|19.93        |239.9       |19.93           |259.83            |0.07670399876842551|\n",
      "|00061f2a7bc09da83e415a52dc8a4af1|1            |d63c1011f49d98b976c352955b1c4bea|cc419e0650a3c5ba77189a1882b7556a|2018-03-29 22:28:09|59.99|8.88         |59.99       |8.88            |68.87             |0.1289385799332075 |\n",
      "|0014ae671de39511f7575066200733b7|1            |23365beed316535b4105bd800c46670e|92eb0f42c21942b6552362b9b114707d|2017-05-29 03:15:24|16.5 |14.1         |16.5        |14.1            |30.6              |0.46078431372549017|\n",
      "|0015ebb40fb17286bea51d4607c4733c|1            |50fd2b788dc166edd20512370dac54df|8b321bb669392f5163d04c59e235e066|2018-01-18 09:11:24|21.9 |15.1         |21.9        |15.1            |37.0              |0.4081081081081081 |\n",
      "|001ab0a7578dd66cd4b0a71f5b6e1e41|2            |0b0172eb0fd18479d29c3bc122c058c2|5656537e588803a555b8eb41f07a944b|2018-01-04 02:33:42|24.89|17.63        |24.89       |17.63           |42.519999999999996|0.41462841015992474|\n",
      "|001dbc16dc51075e987543d23a0507c7|1            |777d2e438a1b645f3aec9bd57e92672c|4a3ca9315b744ce9f8e9374361493884|2017-02-01 13:17:57|69.9 |18.0         |69.9        |18.0            |87.9              |0.20477815699658702|\n",
      "|0028de0ca693a1bb26448916a81105cc|1            |059344baebbeaa42fa9f2bbe11b1583e|955fee9216a65b617aa5c0531780ce60|2018-08-21 03:35:17|29.99|15.31        |29.99       |15.31           |45.3              |0.33796909492273736|\n",
      "|002c9def9c9b951b1bec6d50753c9891|1            |2d9ff06c8870a518f5f6909774e140fb|00720abe85ba0859807595bbf045a33b|2018-05-21 17:32:03|78.0 |8.9          |78.0        |8.9             |86.9              |0.10241657077100115|\n",
      "|002d040018d12a3853c059f7f23ab5b1|1            |97c58626cc3e15d514d2095f69650220|fe2032dab1a61af8794248c8196565c9|2017-11-27 03:47:23|155.0|14.84        |155.0       |14.84           |169.84            |0.08737635421573245|\n",
      "|002f19a65a2ddd70a090297872e6d64e|1            |9eae06d51aaa383b2bed5547a19d581c|1835b56ce799e6a4dc4eddc053f04066|2018-03-27 13:15:27|53.98|23.31        |53.98       |23.31           |77.28999999999999 |0.30159140897916936|\n",
      "+--------------------------------+-------------+--------------------------------+--------------------------------+-------------------+-----+-------------+------------+----------------+------------------+-------------------+\n",
      "only showing top 10 rows\n",
      "\n"
     ]
    }
   ],
   "source": [
    "# =======================================================\n",
    "# Step 1: Filter out invalid rows\n",
    "# - keep only rows where price > 0\n",
    "# - keep only rows where freight_value >= 0 (0 means free shipping, which is valid)\n",
    "# =======================================================\n",
    "order_items_clean = df_order_items.filter(\n",
    "    (col(\"price\") > 0) & (col(\"freight_value\") >= 0)\n",
    ")\n",
    "\n",
    "# =======================================================\n",
    "# Step 2: Remove duplicates\n",
    "# - ensure each (order_id, order_item_id) pair is unique\n",
    "# =======================================================\n",
    "order_items_clean = order_items_clean.dropDuplicates([\"order_id\", \"order_item_id\"])\n",
    "\n",
    "# =======================================================\n",
    "# Step 3: Calculate financial metrics\n",
    "# - item_revenue = price (value of the product itself)\n",
    "# - shipping_revenue = freight_value (shipping cost charged to customer)\n",
    "# - total_cost = price + freight_value (overall cost per item)\n",
    "# =======================================================\n",
    "order_items_clean = order_items_clean \\\n",
    "    .withColumn(\"item_revenue\", col(\"price\")) \\\n",
    "    .withColumn(\"shipping_revenue\", col(\"freight_value\")) \\\n",
    "    .withColumn(\"total_cost\", expr(\"price + freight_value\"))\n",
    "\n",
    "# =======================================================\n",
    "# Step 4: Add freight percentage\n",
    "# - shows how much of the total cost is due to shipping\n",
    "# =======================================================\n",
    "order_items_clean = order_items_clean.withColumn(\n",
    "    \"freight_percentage\",\n",
    "    (col(\"freight_value\") / col(\"total_cost\"))\n",
    ")\n",
    "\n",
    "# =======================================================\n",
    "# Final check\n",
    "# =======================================================\n",
    "order_items_clean.show(10, truncate=False)"
   ]
  },
  {
   "cell_type": "code",
   "execution_count": 18,
   "id": "b709702d",
   "metadata": {},
   "outputs": [
    {
     "name": "stdout",
     "output_type": "stream",
     "text": [
      "root\n",
      " |-- order_id: string (nullable = true)\n",
      " |-- order_item_id: integer (nullable = true)\n",
      " |-- product_id: string (nullable = true)\n",
      " |-- seller_id: string (nullable = true)\n",
      " |-- shipping_limit_date: timestamp (nullable = true)\n",
      " |-- price: double (nullable = true)\n",
      " |-- freight_value: double (nullable = true)\n",
      " |-- item_revenue: double (nullable = true)\n",
      " |-- shipping_revenue: double (nullable = true)\n",
      " |-- total_cost: double (nullable = true)\n",
      " |-- freight_percentage: double (nullable = true)\n",
      "\n"
     ]
    }
   ],
   "source": [
    "order_items_clean.printSchema()"
   ]
  },
  {
   "cell_type": "markdown",
   "id": "dd5a6b90",
   "metadata": {},
   "source": [
    "## **Orders Payments Cleaning**"
   ]
  },
  {
   "cell_type": "code",
   "execution_count": 20,
   "id": "87682c61",
   "metadata": {},
   "outputs": [
    {
     "name": "stdout",
     "output_type": "stream",
     "text": [
      "root\n",
      " |-- order_id: string (nullable = true)\n",
      " |-- payment_sequential: integer (nullable = true)\n",
      " |-- payment_type: string (nullable = true)\n",
      " |-- payment_installments: integer (nullable = true)\n",
      " |-- payment_value: double (nullable = true)\n",
      "\n"
     ]
    }
   ],
   "source": [
    "df_order_payments.printSchema()"
   ]
  },
  {
   "cell_type": "code",
   "execution_count": 22,
   "id": "80519e64",
   "metadata": {},
   "outputs": [
    {
     "name": "stderr",
     "output_type": "stream",
     "text": [
      "[Stage 42:==========================================================(4 + 0) / 4]\r"
     ]
    },
    {
     "name": "stdout",
     "output_type": "stream",
     "text": [
      "+--------------------------------+-------------+------------------+---------------------+-----------------+---------------------+\n",
      "|order_id                        |total_payment|total_installments|payment_methods_count|main_payment_type|avg_installment_value|\n",
      "+--------------------------------+-------------+------------------+---------------------+-----------------+---------------------+\n",
      "|00018f77f2f0320c557190d7a144bdd3|259.83       |3                 |1                    |credit_card      |86.61                |\n",
      "|00042b26cf59d7ce69dfabb4e55b4fd9|218.04       |3                 |1                    |credit_card      |72.67999999999999    |\n",
      "|00054e8431b9d7675808bcb819fb4a32|31.75        |1                 |1                    |credit_card      |31.75                |\n",
      "|0006ec9db01a64e59a68b2c340bf65a7|97.32        |4                 |1                    |credit_card      |24.33                |\n",
      "|000aed2e25dbad2f9ddb70584c5a2ded|152.77       |1                 |1                    |credit_card      |152.77               |\n",
      "|00143d0f86d6fbd9f9b38ab440ac16f5|109.29       |1                 |1                    |credit_card      |109.29               |\n",
      "|0015ebb40fb17286bea51d4607c4733c|37.0         |1                 |1                    |credit_card      |37.0                 |\n",
      "|001c85b5f68d2be0cb0797afc9e8ce9a|112.71       |4                 |1                    |credit_card      |28.1775              |\n",
      "|001e7ba991be1b19605ca0316e7130f9|213.21       |10                |1                    |credit_card      |21.321               |\n",
      "|0020a222f55eb79a372d0efee3cca688|45.09        |4                 |1                    |credit_card      |11.2725              |\n",
      "+--------------------------------+-------------+------------------+---------------------+-----------------+---------------------+\n",
      "only showing top 10 rows\n",
      "\n"
     ]
    },
    {
     "name": "stderr",
     "output_type": "stream",
     "text": [
      "                                                                                \r"
     ]
    }
   ],
   "source": [
    "# =======================================================\n",
    "# Step 1: Filter invalid rows\n",
    "# - remove any rows with payment_value <= 0 (not logical)\n",
    "# =======================================================\n",
    "order_payments_clean = df_order_payments.filter(col(\"payment_value\") > 0)\n",
    "\n",
    "# =======================================================\n",
    "# Step 2: Aggregate payments at the order_id level\n",
    "# - total_payment: sum of all payment values for the order\n",
    "# - total_installments: total number of installments\n",
    "# - payment_methods_count: how many different payment types were used\n",
    "# - main_payment_type: the first payment type recorded (proxy for primary method)\n",
    "# =======================================================\n",
    "order_payments_clean = order_payments_clean.groupBy(\"order_id\").agg(\n",
    "    sum(\"payment_value\").alias(\"total_payment\"),\n",
    "    sum(\"payment_installments\").alias(\"total_installments\"),\n",
    "    countDistinct(\"payment_type\").alias(\"payment_methods_count\"),\n",
    "    first(\"payment_type\").alias(\"main_payment_type\")\n",
    ")\n",
    "\n",
    "# =======================================================\n",
    "# Step 3: Add derived KPIs\n",
    "# - avg_installment_value: average value per installment\n",
    "# =======================================================\n",
    "order_payments_clean = order_payments_clean.withColumn(\n",
    "    \"avg_installment_value\",\n",
    "    expr(\"CASE WHEN total_installments > 0 THEN total_payment / total_installments ELSE NULL END\")\n",
    ")\n",
    "\n",
    "# =======================================================\n",
    "# Final check\n",
    "# =======================================================\n",
    "order_payments_clean.show(10, truncate=False)"
   ]
  },
  {
   "cell_type": "code",
   "execution_count": 23,
   "id": "9fb0f2f8",
   "metadata": {},
   "outputs": [
    {
     "name": "stdout",
     "output_type": "stream",
     "text": [
      "root\n",
      " |-- order_id: string (nullable = true)\n",
      " |-- total_payment: double (nullable = true)\n",
      " |-- total_installments: long (nullable = true)\n",
      " |-- payment_methods_count: long (nullable = false)\n",
      " |-- main_payment_type: string (nullable = true)\n",
      " |-- avg_installment_value: double (nullable = true)\n",
      "\n"
     ]
    }
   ],
   "source": [
    "order_payments_clean.printSchema()"
   ]
  },
  {
   "cell_type": "markdown",
   "id": "7a849543",
   "metadata": {},
   "source": [
    "## **Orders Reviews Cleaning**"
   ]
  },
  {
   "cell_type": "code",
   "execution_count": 24,
   "id": "b94e87f9",
   "metadata": {},
   "outputs": [
    {
     "name": "stdout",
     "output_type": "stream",
     "text": [
      "root\n",
      " |-- review_id: string (nullable = true)\n",
      " |-- order_id: string (nullable = true)\n",
      " |-- review_score: string (nullable = true)\n",
      " |-- review_comment_title: string (nullable = true)\n",
      " |-- review_comment_message: string (nullable = true)\n",
      " |-- review_creation_date: string (nullable = true)\n",
      " |-- review_answer_timestamp: string (nullable = true)\n",
      "\n"
     ]
    }
   ],
   "source": [
    "df_order_reviews.printSchema()"
   ]
  },
  {
   "cell_type": "code",
   "execution_count": 25,
   "id": "cf634005",
   "metadata": {},
   "outputs": [],
   "source": [
    "order_reviews_clean = df_order_reviews \\\n",
    "    .withColumn(\"review_creation_date\", to_timestamp(\"review_creation_date\")) \\\n",
    "    .withColumn(\"review_answer_timestamp\", to_timestamp(\"review_answer_timestamp\"))\n",
    "\n",
    "order_reviews_clean = order_reviews_clean \\\n",
    "    .withColumn(\"has_message\", when(order_reviews_clean.review_comment_message.isNull(), 0).otherwise(1)) \\\n",
    "    .withColumn(\"has_title\", when(order_reviews_clean.review_comment_title.isNull(), 0).otherwise(1))\n",
    "\n",
    "order_reviews_clean = order_reviews_clean \\\n",
    "    .withColumn(\"clean_comment_message\", trim(lower(regexp_replace(\"review_comment_message\", \"[^a-zA-Z0-9çãáéíóúâêôõüàèìòùÇÃÁÉÍÓÚÂÊÔÕÜÀÈÌÒÙ ]\", \"\")))) \\\n",
    "    .withColumn(\"clean_comment_title\", trim(lower(regexp_replace(\"review_comment_title\", \"[^a-zA-Z0-9çãáéíóúâêôõüàèìòùÇÃÁÉÍÓÚÂÊÔÕÜÀÈÌÒÙ ]\", \"\"))))\n",
    "\n",
    "order_reviews_clean = order_reviews_clean.withColumn(\n",
    "    \"review_sentiment\",\n",
    "    when(col(\"review_score\") >= 4, \"positive\")\n",
    "    .when(col(\"review_score\") == 3, \"neutral\")\n",
    "    .otherwise(\"negative\")\n",
    ")"
   ]
  },
  {
   "cell_type": "code",
   "execution_count": 26,
   "id": "b839b4f2",
   "metadata": {},
   "outputs": [
    {
     "name": "stdout",
     "output_type": "stream",
     "text": [
      "root\n",
      " |-- review_id: string (nullable = true)\n",
      " |-- order_id: string (nullable = true)\n",
      " |-- review_score: string (nullable = true)\n",
      " |-- review_comment_title: string (nullable = true)\n",
      " |-- review_comment_message: string (nullable = true)\n",
      " |-- review_creation_date: timestamp (nullable = true)\n",
      " |-- review_answer_timestamp: timestamp (nullable = true)\n",
      " |-- has_message: integer (nullable = false)\n",
      " |-- has_title: integer (nullable = false)\n",
      " |-- clean_comment_message: string (nullable = true)\n",
      " |-- clean_comment_title: string (nullable = true)\n",
      " |-- review_sentiment: string (nullable = false)\n",
      "\n"
     ]
    }
   ],
   "source": [
    "order_reviews_clean.printSchema()"
   ]
  },
  {
   "cell_type": "markdown",
   "id": "f101f2f9",
   "metadata": {},
   "source": [
    "## **Orders Dim**"
   ]
  },
  {
   "cell_type": "code",
   "execution_count": 35,
   "id": "4d4a9f73",
   "metadata": {},
   "outputs": [
    {
     "name": "stderr",
     "output_type": "stream",
     "text": [
      "                                                                                \r"
     ]
    },
    {
     "name": "stdout",
     "output_type": "stream",
     "text": [
      "+--------------------------------+--------------------------------+------------+------------------------+-------------------+----------------------------+-----------------------------+-----------------------------+-------------+--------------+---------------+-------------+--------------------------------+--------------------------------+-------------------+-----+-------------+------------+----------------+------------------+-------------------+-------------+------------------+---------------------+-----------------+---------------------+----------------+-------------+----------+-----------+\n",
      "|order_id                        |customer_id                     |order_status|order_purchase_timestamp|order_approved_at  |order_delivered_carrier_date|order_delivered_customer_date|order_estimated_delivery_date|shipping_days|delivery_delay|delivery_status|order_item_id|product_id                      |seller_id                       |shipping_limit_date|price|freight_value|item_revenue|shipping_revenue|total_cost        |freight_percentage |total_payment|total_installments|payment_methods_count|main_payment_type|avg_installment_value|avg_review_score|reviews_count|order_year|order_month|\n",
      "+--------------------------------+--------------------------------+------------+------------------------+-------------------+----------------------------+-----------------------------+-----------------------------+-------------+--------------+---------------+-------------+--------------------------------+--------------------------------+-------------------+-----+-------------+------------+----------------+------------------+-------------------+-------------+------------------+---------------------+-----------------+---------------------+----------------+-------------+----------+-----------+\n",
      "|17279938859725061b927842cc521d9d|43688fad66340b74b9c7426fe3a4aba9|delivered   |2017-11-26 02:06:21     |2017-11-26 02:16:46|2017-11-29 20:52:23         |2017-12-16 00:59:04          |2017-12-18 00:00:00          |20           |-2            |on_time        |1            |53759a2ecddad2bb87a079a1f1519f73|1f50f920176fa81dab994f9023523100|2017-11-30 02:16:46|49.0 |17.67        |49.0        |17.67           |66.67             |0.2650367481625919 |133.34       |3                 |1                    |credit_card      |44.446666666666665   |1.0             |1            |2017      |11         |\n",
      "|17279938859725061b927842cc521d9d|43688fad66340b74b9c7426fe3a4aba9|delivered   |2017-11-26 02:06:21     |2017-11-26 02:16:46|2017-11-29 20:52:23         |2017-12-16 00:59:04          |2017-12-18 00:00:00          |20           |-2            |on_time        |2            |389d119b48cf3043d311335e499d9c6b|1f50f920176fa81dab994f9023523100|2017-11-30 02:16:46|49.0 |17.67        |49.0        |17.67           |66.67             |0.2650367481625919 |133.34       |3                 |1                    |credit_card      |44.446666666666665   |1.0             |1            |2017      |11         |\n",
      "|460673777918e7a42a262293341ae7d5|6f352988122e277e645d36a012e66bcb|delivered   |2018-02-07 22:38:41     |2018-02-08 22:30:24|2018-02-09 16:56:51         |2018-02-24 18:06:45          |2018-03-05 00:00:00          |17           |-9            |on_time        |1            |b7605b5b483063d12bd90a772bff9d21|4a3ca9315b744ce9f8e9374361493884|2018-02-14 22:30:24|48.0 |11.85        |48.0        |11.85           |59.85             |0.19799498746867167|59.85        |5                 |1                    |credit_card      |11.97                |5.0             |1            |2018      |2          |\n",
      "|53cdb2fc8bc7dce0b6741e2150273451|b0830fb4747a6c6d20dea0b8c802d7ef|delivered   |2018-07-24 20:41:37     |2018-07-26 03:24:27|2018-07-26 14:31:00         |2018-08-07 15:27:45          |2018-08-13 00:00:00          |14           |-6            |on_time        |1            |595fac2a385ac33a80bd5114aec74eb8|289cdb325fb7e7f891c38608bf9e0962|2018-07-30 03:24:27|118.7|22.76        |118.7       |22.76           |141.46            |0.16089353880955748|141.46       |1                 |1                    |boleto           |141.46               |4.0             |1            |2018      |7          |\n",
      "|5e4d2d8a6589ec90d1c82d0c2cb55eb0|3df001627683ff649e8df47730d2b52c|delivered   |2017-11-26 15:51:16     |2017-11-26 17:16:05|2017-11-27 18:14:56         |2017-11-30 01:14:36          |2017-12-11 00:00:00          |4            |-11           |on_time        |1            |d017a2151d543a9885604dc62a3d9dcc|6560211a19b47992c3666cc44a7e94c0|2017-11-30 17:16:05|49.0 |7.78         |49.0        |7.78            |56.78             |0.13702007749207468|56.78        |1                 |1                    |debit_card       |56.78                |4.0             |1            |2017      |11         |\n",
      "|949d5b44dbf5de918fe9c16f97b45f8a|f88197465ea7920adcdbec7375364d82|delivered   |2017-11-18 19:28:06     |2017-11-18 19:45:59|2017-11-22 13:39:59         |2017-12-02 00:28:42          |2017-12-15 00:00:00          |14           |-13           |on_time        |1            |d0b61bfb1de832b15ba9d266ca96e5b0|66922902710d126a0e7d26b0e3805106|2017-11-23 19:45:59|45.0 |27.2         |45.0        |27.2            |72.2              |0.3767313019390581 |72.2         |1                 |1                    |credit_card      |72.2                 |5.0             |1            |2017      |11         |\n",
      "|9f2fe2350791b5e9e62610331d125843|208dce5ddbcf741af0c04f0a72a4d08e|delivered   |2018-05-03 22:21:53     |2018-05-05 02:30:07|2018-05-07 09:10:00         |2018-05-10 13:08:57          |2018-05-23 00:00:00          |7            |-13           |on_time        |2            |7adb171e34892acd7b24bcd0c841e221|382229d1e840115ffe3dbf5ff460e417|2018-05-10 02:30:07|59.9 |16.39        |59.9        |16.39           |76.28999999999999 |0.21483811770874298|152.58       |1                 |1                    |boleto           |152.58               |5.0             |1            |2018      |5          |\n",
      "|9f2fe2350791b5e9e62610331d125843|208dce5ddbcf741af0c04f0a72a4d08e|delivered   |2018-05-03 22:21:53     |2018-05-05 02:30:07|2018-05-07 09:10:00         |2018-05-10 13:08:57          |2018-05-23 00:00:00          |7            |-13           |on_time        |1            |7adb171e34892acd7b24bcd0c841e221|382229d1e840115ffe3dbf5ff460e417|2018-05-10 02:30:07|59.9 |16.39        |59.9        |16.39           |76.28999999999999 |0.21483811770874298|152.58       |1                 |1                    |boleto           |152.58               |5.0             |1            |2018      |5          |\n",
      "|ad21c59c0840e6cb83a9ceb5573f8159|8ab97904e6daea8866dbdbc4fb7aad2c|delivered   |2018-02-13 21:18:39     |2018-02-13 22:20:29|2018-02-14 19:46:34         |2018-02-16 18:17:02          |2018-02-26 00:00:00          |3            |-10           |on_time        |1            |65266b2da20d04dbe00c5c2d3bb7859e|2c9e548be18521d1c43cde1c582c6de8|2018-02-19 20:31:37|19.9 |8.72         |19.9        |8.72            |28.619999999999997|0.3046820405310972 |28.62        |1                 |1                    |credit_card      |28.62                |5.0             |1            |2018      |2          |\n",
      "|b39de9ed2bb8fd08a970e4517c698824|ed18b557140ff674f36cbcf73921dbbe|delivered   |2018-03-27 09:15:17     |2018-03-27 09:30:12|2018-03-27 23:52:09         |2018-04-11 21:51:02          |2018-04-26 00:00:00          |15           |-15           |on_time        |1            |0d85c435fd60b277ffb9e9b0f88f927a|00fc707aaaad2d31347cf883cd2dfe10|2018-04-06 09:30:12|98.9 |22.4         |98.9        |22.4            |121.30000000000001|0.18466611706512776|121.3        |1                 |1                    |credit_card      |121.3                |5.0             |1            |2018      |3          |\n",
      "+--------------------------------+--------------------------------+------------+------------------------+-------------------+----------------------------+-----------------------------+-----------------------------+-------------+--------------+---------------+-------------+--------------------------------+--------------------------------+-------------------+-----+-------------+------------+----------------+------------------+-------------------+-------------+------------------+---------------------+-----------------+---------------------+----------------+-------------+----------+-----------+\n",
      "only showing top 10 rows\n",
      "\n"
     ]
    }
   ],
   "source": [
    "# =======================================================\n",
    "# Step 1: Aggregate reviews before joining\n",
    "# - avg_review_score: average score per order\n",
    "# - reviews_count: number of reviews per order\n",
    "# =======================================================\n",
    "order_reviews_agg = order_reviews_clean.groupBy(\"order_id\").agg(\n",
    "    avg(\"review_score\").alias(\"avg_review_score\"),\n",
    "    count(\"*\").alias(\"reviews_count\")\n",
    ")\n",
    "\n",
    "# =======================================================\n",
    "# Step 2: Join orders with order_items\n",
    "# =======================================================\n",
    "orders_items_joined = orders_clean.join(\n",
    "    order_items_clean,\n",
    "    on=\"order_id\",\n",
    "    how=\"left\"\n",
    ")\n",
    "\n",
    "# =======================================================\n",
    "# Step 3: Join with payments\n",
    "# =======================================================\n",
    "orders_items_payments_joined = orders_items_joined.join(\n",
    "    order_payments_clean,\n",
    "    on=\"order_id\",\n",
    "    how=\"left\"\n",
    ")\n",
    "\n",
    "# =======================================================\n",
    "# Step 4: Join with aggregated reviews\n",
    "# =======================================================\n",
    "orders_full_cleaned = orders_items_payments_joined.join(\n",
    "    order_reviews_agg,\n",
    "    on=\"order_id\",\n",
    "    how=\"left\"\n",
    ")\n",
    "\n",
    "# =======================================================\n",
    "# Step 5: Add partitioning columns (optional, useful for DW)\n",
    "# =======================================================\n",
    "orders_full_cleaned = orders_full_cleaned \\\n",
    "    .withColumn(\"order_year\", year(\"order_purchase_timestamp\")) \\\n",
    "    .withColumn(\"order_month\", month(\"order_purchase_timestamp\"))\n",
    "\n",
    "# =======================================================\n",
    "# Final check\n",
    "# =======================================================\n",
    "orders_full_cleaned.show(10, truncate=False)"
   ]
  },
  {
   "cell_type": "code",
   "execution_count": 28,
   "id": "9d3d036a",
   "metadata": {},
   "outputs": [
    {
     "name": "stdout",
     "output_type": "stream",
     "text": [
      "root\n",
      " |-- order_id: string (nullable = true)\n",
      " |-- customer_id: string (nullable = true)\n",
      " |-- order_status: string (nullable = true)\n",
      " |-- order_purchase_timestamp: timestamp (nullable = true)\n",
      " |-- order_approved_at: timestamp (nullable = true)\n",
      " |-- order_delivered_carrier_date: timestamp (nullable = true)\n",
      " |-- order_delivered_customer_date: timestamp (nullable = true)\n",
      " |-- order_estimated_delivery_date: timestamp (nullable = true)\n",
      " |-- shipping_days: integer (nullable = true)\n",
      " |-- delivery_delay: integer (nullable = true)\n",
      " |-- delivery_status: string (nullable = false)\n",
      " |-- order_item_id: integer (nullable = true)\n",
      " |-- product_id: string (nullable = true)\n",
      " |-- seller_id: string (nullable = true)\n",
      " |-- shipping_limit_date: timestamp (nullable = true)\n",
      " |-- price: double (nullable = true)\n",
      " |-- freight_value: double (nullable = true)\n",
      " |-- item_revenue: double (nullable = true)\n",
      " |-- shipping_revenue: double (nullable = true)\n",
      " |-- total_cost: double (nullable = true)\n",
      " |-- freight_percentage: double (nullable = true)\n",
      " |-- total_payment: double (nullable = true)\n",
      " |-- total_installments: long (nullable = true)\n",
      " |-- payment_methods_count: long (nullable = true)\n",
      " |-- main_payment_type: string (nullable = true)\n",
      " |-- avg_installment_value: double (nullable = true)\n",
      " |-- avg_review_score: double (nullable = true)\n",
      " |-- reviews_count: long (nullable = true)\n",
      " |-- order_year: integer (nullable = true)\n",
      " |-- order_month: integer (nullable = true)\n",
      "\n"
     ]
    }
   ],
   "source": [
    "orders_full_cleaned.printSchema()"
   ]
  },
  {
   "cell_type": "markdown",
   "id": "0f2866eb",
   "metadata": {},
   "source": [
    "## **Product Cleaning**"
   ]
  },
  {
   "cell_type": "code",
   "execution_count": 29,
   "id": "1138b45f",
   "metadata": {},
   "outputs": [
    {
     "name": "stdout",
     "output_type": "stream",
     "text": [
      "root\n",
      " |-- product_id: string (nullable = true)\n",
      " |-- product_category_name: string (nullable = true)\n",
      " |-- product_name_lenght: integer (nullable = true)\n",
      " |-- product_description_lenght: integer (nullable = true)\n",
      " |-- product_photos_qty: integer (nullable = true)\n",
      " |-- product_weight_g: integer (nullable = true)\n",
      " |-- product_length_cm: integer (nullable = true)\n",
      " |-- product_height_cm: integer (nullable = true)\n",
      " |-- product_width_cm: integer (nullable = true)\n",
      "\n"
     ]
    }
   ],
   "source": [
    "df_products.printSchema()"
   ]
  },
  {
   "cell_type": "code",
   "execution_count": 30,
   "id": "e80dc9b0",
   "metadata": {},
   "outputs": [
    {
     "name": "stderr",
     "output_type": "stream",
     "text": [
      "                                                                                \r"
     ]
    },
    {
     "name": "stdout",
     "output_type": "stream",
     "text": [
      "+--------------------------------+---------------------+-------------------+--------------------------+------------------+----------------+-----------------+-----------------+----------------+------------------+-------------+\n",
      "|product_id                      |product_category_name|product_name_length|product_description_length|product_photos_qty|product_weight_g|product_length_cm|product_height_cm|product_width_cm|product_volume_cm3|size_category|\n",
      "+--------------------------------+---------------------+-------------------+--------------------------+------------------+----------------+-----------------+-----------------+----------------+------------------+-------------+\n",
      "|1e9e8ef04dbcff4541ed26657ea517e5|perfumaria           |40                 |287                       |1                 |225             |16               |10               |14              |2240              |Medium       |\n",
      "|3aa071139cb16b67ca9e5dea641aaa2f|artes                |44                 |276                       |1                 |1000            |30               |18               |20              |10800             |Large        |\n",
      "|96bd76ec8810374ed1b65e291975717f|esporte_lazer        |46                 |250                       |1                 |154             |18               |9                |15              |2430              |Medium       |\n",
      "|cef67bcfe19066a932b7673e239eb23d|bebes                |27                 |261                       |1                 |371             |26               |4                |26              |2704              |Medium       |\n",
      "|9dc1a7de274444849c219cff195d0b71|utilidades_domesticas|37                 |402                       |4                 |625             |20               |17               |13              |4420              |Medium       |\n",
      "|41d3672d4792049fa1779bb35283ed13|instrumentos_musicais|60                 |745                       |1                 |200             |38               |5                |11              |2090              |Medium       |\n",
      "|732bd381ad09e530fe0a5f457d81becb|cool_stuff           |56                 |1272                      |4                 |18350           |70               |24               |44              |73920             |Large        |\n",
      "|2548af3e6e77a690cf3eb6368e9ab61e|moveis_decoracao     |56                 |184                       |2                 |900             |40               |8                |40              |12800             |Large        |\n",
      "|37cc742be07708b53a98702e77a21a02|eletrodomesticos     |57                 |163                       |1                 |400             |27               |13               |17              |5967              |Medium       |\n",
      "|8c92109888e8cdf9d66dc7e463025574|brinquedos           |36                 |1156                      |1                 |600             |17               |10               |12              |2040              |Medium       |\n",
      "+--------------------------------+---------------------+-------------------+--------------------------+------------------+----------------+-----------------+-----------------+----------------+------------------+-------------+\n",
      "only showing top 10 rows\n",
      "\n"
     ]
    }
   ],
   "source": [
    "# =======================================================\n",
    "# Step 1: Remove invalid categories\n",
    "# - keep only rows where product_category_name is not null\n",
    "# =======================================================\n",
    "products_clean = df_products.filter(df_products.product_category_name.isNotNull())\n",
    "\n",
    "# =======================================================\n",
    "# Step 2: Drop rows with missing essential dimensions\n",
    "# - weight, length, height, width are mandatory for analysis\n",
    "# =======================================================\n",
    "products_clean = products_clean.dropna(subset=[\n",
    "    \"product_weight_g\", \"product_length_cm\", \"product_height_cm\", \"product_width_cm\"\n",
    "])\n",
    "\n",
    "# =======================================================\n",
    "# Step 3: Cast numeric columns to proper types\n",
    "# =======================================================\n",
    "products_clean = products_clean \\\n",
    "    .withColumn(\"product_name_lenght\", col(\"product_name_lenght\").cast(\"int\")) \\\n",
    "    .withColumn(\"product_description_lenght\", col(\"product_description_lenght\").cast(\"int\")) \\\n",
    "    .withColumn(\"product_photos_qty\", col(\"product_photos_qty\").cast(\"int\")) \\\n",
    "    .withColumn(\"product_weight_g\", col(\"product_weight_g\").cast(\"int\")) \\\n",
    "    .withColumn(\"product_length_cm\", col(\"product_length_cm\").cast(\"int\")) \\\n",
    "    .withColumn(\"product_height_cm\", col(\"product_height_cm\").cast(\"int\")) \\\n",
    "    .withColumn(\"product_width_cm\", col(\"product_width_cm\").cast(\"int\"))\n",
    "\n",
    "# =======================================================\n",
    "# Step 4: Rename typo columns for clarity\n",
    "# =======================================================\n",
    "products_clean = products_clean \\\n",
    "    .withColumnRenamed(\"product_name_lenght\", \"product_name_length\") \\\n",
    "    .withColumnRenamed(\"product_description_lenght\", \"product_description_length\")\n",
    "\n",
    "# =======================================================\n",
    "# Step 5: Calculate product volume (cm³)\n",
    "# =======================================================\n",
    "products_clean = products_clean.withColumn(\n",
    "    \"product_volume_cm3\",\n",
    "    expr(\"product_length_cm * product_height_cm * product_width_cm\")\n",
    ")\n",
    "\n",
    "# =======================================================\n",
    "# Step 6: Standardize category name\n",
    "# - lower case + trim\n",
    "# =======================================================\n",
    "products_clean = products_clean.withColumn(\n",
    "    \"product_category_name\", trim(lower(\"product_category_name\"))\n",
    ")\n",
    "\n",
    "# =======================================================\n",
    "# Step 7: Filter out unrealistic values\n",
    "# - remove rows with zero or negative dimensions/weight\n",
    "# =======================================================\n",
    "products_clean = products_clean.filter(\n",
    "    (col(\"product_weight_g\") > 0) &\n",
    "    (col(\"product_length_cm\") > 0) &\n",
    "    (col(\"product_height_cm\") > 0) &\n",
    "    (col(\"product_width_cm\") > 0)\n",
    ")\n",
    "\n",
    "# =======================================================\n",
    "# Step 8: Add derived feature - size category\n",
    "# - classify products as Small, Medium, Large based on volume\n",
    "# =======================================================\n",
    "products_clean = products_clean.withColumn(\n",
    "    \"size_category\",\n",
    "    when(col(\"product_volume_cm3\") < 1000, \"Small\")\n",
    "    .when(col(\"product_volume_cm3\") < 10000, \"Medium\")\n",
    "    .otherwise(\"Large\")\n",
    ")\n",
    "\n",
    "# =======================================================\n",
    "# Final check\n",
    "# =======================================================\n",
    "products_clean.show(10, truncate=False)"
   ]
  },
  {
   "cell_type": "code",
   "execution_count": 31,
   "id": "2ac30bee",
   "metadata": {},
   "outputs": [
    {
     "name": "stdout",
     "output_type": "stream",
     "text": [
      "root\n",
      " |-- product_id: string (nullable = true)\n",
      " |-- product_category_name: string (nullable = true)\n",
      " |-- product_name_length: integer (nullable = true)\n",
      " |-- product_description_length: integer (nullable = true)\n",
      " |-- product_photos_qty: integer (nullable = true)\n",
      " |-- product_weight_g: integer (nullable = true)\n",
      " |-- product_length_cm: integer (nullable = true)\n",
      " |-- product_height_cm: integer (nullable = true)\n",
      " |-- product_width_cm: integer (nullable = true)\n",
      " |-- product_volume_cm3: integer (nullable = true)\n",
      " |-- size_category: string (nullable = false)\n",
      "\n"
     ]
    }
   ],
   "source": [
    "products_clean.printSchema()"
   ]
  },
  {
   "cell_type": "markdown",
   "id": "5bc07147",
   "metadata": {},
   "source": [
    "## **Product Category Translation Cleaning**"
   ]
  },
  {
   "cell_type": "code",
   "execution_count": 32,
   "id": "1942a2ae",
   "metadata": {},
   "outputs": [
    {
     "name": "stdout",
     "output_type": "stream",
     "text": [
      "root\n",
      " |-- product_category_name: string (nullable = true)\n",
      " |-- product_category_name_english: string (nullable = true)\n",
      "\n"
     ]
    }
   ],
   "source": [
    "df_product_category_translation.printSchema()"
   ]
  },
  {
   "cell_type": "code",
   "execution_count": 34,
   "id": "84adbac8",
   "metadata": {},
   "outputs": [
    {
     "name": "stdout",
     "output_type": "stream",
     "text": [
      "+---------------------+--------------------------------+-------------------+--------------------------+------------------+----------------+-----------------+-----------------+----------------+------------------+-------------+-----------------------------+-------------------+\n",
      "|product_category_name|product_id                      |product_name_length|product_description_length|product_photos_qty|product_weight_g|product_length_cm|product_height_cm|product_width_cm|product_volume_cm3|size_category|product_category_name_english|category_final     |\n",
      "+---------------------+--------------------------------+-------------------+--------------------------+------------------+----------------+-----------------+-----------------+----------------+------------------+-------------+-----------------------------+-------------------+\n",
      "|perfumaria           |1e9e8ef04dbcff4541ed26657ea517e5|40                 |287                       |1                 |225             |16               |10               |14              |2240              |Medium       |perfumery                    |perfumery          |\n",
      "|artes                |3aa071139cb16b67ca9e5dea641aaa2f|44                 |276                       |1                 |1000            |30               |18               |20              |10800             |Large        |art                          |art                |\n",
      "|esporte_lazer        |96bd76ec8810374ed1b65e291975717f|46                 |250                       |1                 |154             |18               |9                |15              |2430              |Medium       |sports_leisure               |sports_leisure     |\n",
      "|bebes                |cef67bcfe19066a932b7673e239eb23d|27                 |261                       |1                 |371             |26               |4                |26              |2704              |Medium       |baby                         |baby               |\n",
      "|utilidades_domesticas|9dc1a7de274444849c219cff195d0b71|37                 |402                       |4                 |625             |20               |17               |13              |4420              |Medium       |housewares                   |housewares         |\n",
      "|instrumentos_musicais|41d3672d4792049fa1779bb35283ed13|60                 |745                       |1                 |200             |38               |5                |11              |2090              |Medium       |musical_instruments          |musical_instruments|\n",
      "|cool_stuff           |732bd381ad09e530fe0a5f457d81becb|56                 |1272                      |4                 |18350           |70               |24               |44              |73920             |Large        |cool_stuff                   |cool_stuff         |\n",
      "|moveis_decoracao     |2548af3e6e77a690cf3eb6368e9ab61e|56                 |184                       |2                 |900             |40               |8                |40              |12800             |Large        |furniture_decor              |furniture_decor    |\n",
      "|eletrodomesticos     |37cc742be07708b53a98702e77a21a02|57                 |163                       |1                 |400             |27               |13               |17              |5967              |Medium       |home_appliances              |home_appliances    |\n",
      "|brinquedos           |8c92109888e8cdf9d66dc7e463025574|36                 |1156                      |1                 |600             |17               |10               |12              |2040              |Medium       |toys                         |toys               |\n",
      "+---------------------+--------------------------------+-------------------+--------------------------+------------------+----------------+-----------------+-----------------+----------------+------------------+-------------+-----------------------------+-------------------+\n",
      "only showing top 10 rows\n",
      "\n"
     ]
    }
   ],
   "source": [
    "# =======================================================\n",
    "# Step 1: Clean product_category_translation table\n",
    "# - standardize category names (lowercase + trim)\n",
    "# =======================================================\n",
    "product_category_translation_clean = df_product_category_translation.withColumn(\n",
    "    \"product_category_name\", trim(lower(\"product_category_name\"))\n",
    ")\n",
    "\n",
    "# =======================================================\n",
    "# Step 2: Enrich products with translated category names\n",
    "# - join products_clean with category translations\n",
    "# - keep translation if available, otherwise null\n",
    "# =======================================================\n",
    "products_enriched = products_clean.join(\n",
    "    product_category_translation_clean,\n",
    "    on=\"product_category_name\",\n",
    "    how=\"left\"\n",
    ")\n",
    "\n",
    "# =======================================================\n",
    "# Step 3: (Optional) Add a fallback category\n",
    "# - replace null translation with the original Portuguese name\n",
    "#   so every product has at least one usable category\n",
    "# =======================================================\n",
    "products_full_cleaned = products_enriched.withColumn(\n",
    "    \"category_final\",\n",
    "    when(col(\"product_category_name_english\").isNotNull(), col(\"product_category_name_english\"))\n",
    "    .otherwise(col(\"product_category_name\"))\n",
    ")\n",
    "\n",
    "# =======================================================\n",
    "# Final check\n",
    "# =======================================================\n",
    "products_full_cleaned.show(10, truncate=False)"
   ]
  },
  {
   "cell_type": "code",
   "execution_count": 36,
   "id": "8112d621",
   "metadata": {},
   "outputs": [
    {
     "name": "stdout",
     "output_type": "stream",
     "text": [
      "root\n",
      " |-- product_category_name: string (nullable = true)\n",
      " |-- product_id: string (nullable = true)\n",
      " |-- product_name_length: integer (nullable = true)\n",
      " |-- product_description_length: integer (nullable = true)\n",
      " |-- product_photos_qty: integer (nullable = true)\n",
      " |-- product_weight_g: integer (nullable = true)\n",
      " |-- product_length_cm: integer (nullable = true)\n",
      " |-- product_height_cm: integer (nullable = true)\n",
      " |-- product_width_cm: integer (nullable = true)\n",
      " |-- product_volume_cm3: integer (nullable = true)\n",
      " |-- size_category: string (nullable = false)\n",
      " |-- product_category_name_english: string (nullable = true)\n",
      " |-- category_final: string (nullable = true)\n",
      "\n"
     ]
    }
   ],
   "source": [
    "products_full_cleaned.printSchema()"
   ]
  },
  {
   "cell_type": "markdown",
   "id": "6b14c405",
   "metadata": {},
   "source": [
    "## **Saller Cleaning**"
   ]
  },
  {
   "cell_type": "code",
   "execution_count": 37,
   "id": "ac1bb35f",
   "metadata": {},
   "outputs": [
    {
     "name": "stdout",
     "output_type": "stream",
     "text": [
      "root\n",
      " |-- seller_id: string (nullable = true)\n",
      " |-- seller_zip_code_prefix: integer (nullable = true)\n",
      " |-- seller_city: string (nullable = true)\n",
      " |-- seller_state: string (nullable = true)\n",
      "\n"
     ]
    }
   ],
   "source": [
    "df_sellers.printSchema()"
   ]
  },
  {
   "cell_type": "code",
   "execution_count": 38,
   "id": "3aa198db",
   "metadata": {},
   "outputs": [
    {
     "name": "stderr",
     "output_type": "stream",
     "text": [
      "[Stage 95:>                                                         (0 + 1) / 1]\r"
     ]
    },
    {
     "name": "stdout",
     "output_type": "stream",
     "text": [
      "+--------------------------------+----------------------+--------------+------------+\n",
      "|seller_id                       |seller_zip_code_prefix|seller_city   |seller_state|\n",
      "+--------------------------------+----------------------+--------------+------------+\n",
      "|001cca7ae9ae17fb1caed9dfb1094831|29156                 |cariacica     |ES          |\n",
      "|001e6ad469a905060d959994f1b41e4f|24754                 |sao goncalo   |RJ          |\n",
      "|002100f778ceb8431b7a1020ff7ab48f|14405                 |franca        |SP          |\n",
      "|003554e2dce176b5555353e4f3555ac8|74565                 |goiania       |GO          |\n",
      "|004c9cd9d87a3c30c522c48c4fc07416|14940                 |ibitinga      |SP          |\n",
      "|00d8b143d12632bad99c0ad66ad52825|30170                 |belo horizonte|MG          |\n",
      "|00fc707aaaad2d31347cf883cd2dfe10|87025                 |maringa       |PR          |\n",
      "|011b0eaba87386a2ae96a7d32bb531d1|17580                 |pompeia       |SP          |\n",
      "|01266d4c46afa519678d16a8b683d325|80250                 |curitiba      |PR          |\n",
      "|013900e863eace745d3ec7614cab5b1a|80740                 |curitiba      |PR          |\n",
      "+--------------------------------+----------------------+--------------+------------+\n",
      "only showing top 10 rows\n",
      "\n"
     ]
    },
    {
     "name": "stderr",
     "output_type": "stream",
     "text": [
      "                                                                                \r"
     ]
    }
   ],
   "source": [
    "# =======================================================\n",
    "# Step 1: Basic cleaning\n",
    "# - normalize city names: lowercase, trim, remove special chars\n",
    "# =======================================================\n",
    "sellers_cleaned = df_sellers.withColumn(\n",
    "    \"seller_city\",\n",
    "    lower(trim(regexp_replace(col(\"seller_city\"), \"[^a-zA-ZÀ-ÿ ]\", \"\")))\n",
    ")\n",
    "\n",
    "# =======================================================\n",
    "# Step 2: Fix common typos in city names\n",
    "# - replace variations like \"d oeste\" → \"do oeste\"\n",
    "# =======================================================\n",
    "sellers_cleaned = sellers_cleaned.withColumn(\n",
    "    \"seller_city\",\n",
    "    regexp_replace(col(\"seller_city\"), \"\\\\bd['\\\\s]o\\\\b\", \" do \")\n",
    ")\n",
    "\n",
    "for wrong, correct in corrections.items():\n",
    "    sellers_cleaned = sellers_cleaned.withColumn(\n",
    "        \"seller_city\",\n",
    "        when(col(\"seller_city\") == wrong, correct).otherwise(col(\"seller_city\"))\n",
    "    )\n",
    "\n",
    "# =======================================================\n",
    "# Step 3: Validate essential fields\n",
    "# - seller_id must not be null\n",
    "# - seller_zip_code_prefix should be 5 digits\n",
    "# =======================================================\n",
    "sellers_cleaned = sellers_cleaned.filter(col(\"seller_id\").isNotNull())\n",
    "sellers_cleaned = sellers_cleaned.filter(length(\"seller_zip_code_prefix\") == 5)\n",
    "\n",
    "# =======================================================\n",
    "# Step 4: Remove duplicate seller records\n",
    "# - keep only unique seller_id rows\n",
    "# =======================================================\n",
    "sellers_cleaned = sellers_cleaned.dropDuplicates([\"seller_id\"])\n",
    "\n",
    "# =======================================================\n",
    "# Final check\n",
    "# =======================================================\n",
    "sellers_cleaned.show(10, truncate=False)"
   ]
  },
  {
   "cell_type": "markdown",
   "id": "11b8b25e",
   "metadata": {},
   "source": [
    "## **Geolocation Cleaning**"
   ]
  },
  {
   "cell_type": "code",
   "execution_count": 39,
   "id": "321eb4bf",
   "metadata": {},
   "outputs": [
    {
     "name": "stdout",
     "output_type": "stream",
     "text": [
      "root\n",
      " |-- geolocation_zip_code_prefix: integer (nullable = true)\n",
      " |-- geolocation_lat: double (nullable = true)\n",
      " |-- geolocation_lng: double (nullable = true)\n",
      " |-- geolocation_city: string (nullable = true)\n",
      " |-- geolocation_state: string (nullable = true)\n",
      "\n"
     ]
    }
   ],
   "source": [
    "df_geolocation.printSchema()"
   ]
  },
  {
   "cell_type": "code",
   "execution_count": 40,
   "id": "f4e74d1f",
   "metadata": {},
   "outputs": [],
   "source": [
    "geolocation_clean = df_geolocation.dropna(subset=[\n",
    "    \"geolocation_zip_code_prefix\", \n",
    "    \"geolocation_lat\", \n",
    "    \"geolocation_lng\", \n",
    "    \"geolocation_city\", \n",
    "    \"geolocation_state\"\n",
    "]).dropDuplicates([\"geolocation_zip_code_prefix\", \"geolocation_city\", \"geolocation_state\"])"
   ]
  },
  {
   "cell_type": "markdown",
   "id": "c206e1ae",
   "metadata": {},
   "source": [
    "# **Build DW Tables**"
   ]
  },
  {
   "cell_type": "code",
   "execution_count": null,
   "id": "2889d94e",
   "metadata": {},
   "outputs": [],
   "source": [
    "# =======================================================\n",
    "# Dimension: Customers\n",
    "# =======================================================\n",
    "dim_customers = customers_clean.select(\n",
    "    \"customer_id\", \"customer_unique_id\", \"customer_city\", \"customer_state\", \"customer_zip_code_prefix\"\n",
    ").dropDuplicates([\"customer_id\"])\n",
    "\n",
    "# =======================================================\n",
    "# Dimension: Products\n",
    "# =======================================================\n",
    "dim_products = products_full_cleaned.select(\n",
    "    \"product_id\", \"category_final\",\n",
    "    \"product_category_name\", \"product_category_name_english\",\n",
    "    \"product_weight_g\", \"product_volume_cm3\", \"size_category\", \"product_photos_qty\"\n",
    ").dropDuplicates([\"product_id\"])\n",
    "\n",
    "# =======================================================\n",
    "# Dimension: Sellers\n",
    "# =======================================================\n",
    "dim_sellers = sellers_cleaned.select(\n",
    "    \"seller_id\", \"seller_city\", \"seller_state\", \"seller_zip_code_prefix\"\n",
    ").dropDuplicates([\"seller_id\"])\n",
    "\n",
    "# =======================================================\n",
    "# Dimension: Geolocation\n",
    "# =======================================================\n",
    "dim_geolocation = geolocation_clean.dropDuplicates([\"geolocation_zip_code_prefix\"])\n",
    "\n",
    "# =======================================================\n",
    "# Fact Table: Orders\n",
    "# =======================================================\n",
    "fact_orders = orders_full_cleaned.select(\n",
    "    # ---------------- Identifiers (Primary / Foreign Keys) ----------------\n",
    "    \"order_id\",          # Order identifier\n",
    "    \"customer_id\",       # FK -> dim_customers\n",
    "    \"product_id\",        # FK -> dim_products\n",
    "    \"seller_id\",         # FK -> dim_sellers\n",
    "\n",
    "    # ---------------- Date / Time attributes ----------------\n",
    "    \"order_purchase_timestamp\",     # When order was placed\n",
    "    \"order_approved_at\",            # When payment was approved\n",
    "    \"order_estimated_delivery_date\" # When payment was deliveried\n",
    "    \n",
    "\n",
    "    # ---------------- Descriptive attributes ----------------\n",
    "    \"order_status\",      # Status of the order (delivered, canceled, etc.)\n",
    "    \"delivery_status\",   # Derived: on-time, late, early\n",
    "    \"main_payment_type\", # payment type\n",
    "\n",
    "    # ---------------- Measures (for aggregations) ----------------\n",
    "    \"price\",             # Item(s) price (SUM, AVG)\n",
    "    \"freight_value\",     # Shipping cost (SUM, AVG)\n",
    "    \"total_cost\",        # price + freight_value (SUM, AVG)\n",
    "\n",
    "    \"total_payment\",     # Total amount paid (SUM)\n",
    "    \"total_installments\",# Number of installments (SUM, AVG)\n",
    "\n",
    "    \"shipping_days\",     # Actual shipping duration (AVG, MIN, MAX)\n",
    "    \"delivery_delay\",    # Difference between estimated & actual delivery (AVG, MIN, MAX)\n",
    "    \"avg_review_score\"   # Customer satisfaction score (AVG)\n",
    ")"
   ]
  },
  {
   "cell_type": "code",
   "execution_count": 43,
   "id": "9079c8a8",
   "metadata": {},
   "outputs": [
    {
     "name": "stderr",
     "output_type": "stream",
     "text": [
      "                                                                                \r"
     ]
    }
   ],
   "source": [
    "# =======================================================\n",
    "# Dimension: Time\n",
    "# =======================================================\n",
    "\n",
    "# Get min and max date from orders\n",
    "date_range = orders_clean.agg(\n",
    "    to_date(expr(\"min(order_purchase_timestamp)\")).alias(\"min_date\"),\n",
    "    to_date(expr(\"max(order_purchase_timestamp)\")).alias(\"max_date\")\n",
    ").collect()[0]\n",
    "\n",
    "min_date, max_date = date_range[\"min_date\"], date_range[\"max_date\"]\n",
    "\n",
    "# Generate a sequence of all dates\n",
    "date_df = spark.createDataFrame([(1,)], [\"id\"]).withColumn(\n",
    "    \"date_key\", explode(sequence(lit(min_date), lit(max_date), expr(\"interval 1 day\")))\n",
    ").drop(\"id\")\n",
    "\n",
    "# Build dimension table\n",
    "dim_time = date_df \\\n",
    "    .withColumn(\"day\", dayofmonth(\"date_key\")) \\\n",
    "    .withColumn(\"month\", month(\"date_key\")) \\\n",
    "    .withColumn(\"year\", year(\"date_key\")) \\\n",
    "    .withColumn(\"day_of_week\", date_format(\"date_key\", \"E\")) \\\n",
    "    .withColumn(\"week_of_year\", weekofyear(\"date_key\")) \\\n",
    "    .withColumn(\"day_name\", date_format(\"date_key\", \"EEEE\")) \\\n",
    "    .withColumn(\"month_name\", date_format(\"date_key\", \"MMMM\"))\n",
    "\n",
    "# Primary key\n",
    "dim_time = dim_time.withColumnRenamed(\"date_key\", \"time_id\")"
   ]
  },
  {
   "cell_type": "markdown",
   "id": "6b003abe",
   "metadata": {},
   "source": [
    "# **Load To Postgres**\n",
    "#### Save Full Cleand Tables"
   ]
  },
  {
   "cell_type": "code",
   "execution_count": null,
   "id": "2b21e470",
   "metadata": {},
   "outputs": [],
   "source": [
    "# Postgres Config Connection\n",
    "jdbc_url = \"jdbc:postgresql://postgres:5432/olist_dwh\"\n",
    "connection_properties = {\n",
    "     \"user\": \"admin\",\n",
    "     \"password\": \"password\",\n",
    "     \"driver\": \"org.postgresql.Driver\"\n",
    " }"
   ]
  },
  {
   "cell_type": "code",
   "execution_count": null,
   "id": "769c6196",
   "metadata": {},
   "outputs": [
    {
     "name": "stderr",
     "output_type": "stream",
     "text": [
      "                                                                                \r"
     ]
    }
   ],
   "source": [
    "# write Dim Tables to Postgres\n",
    "dim_customers.write.jdbc(url=jdbc_url, table=\"dim_customers\", mode=\"overwrite\", properties=connection_properties)\n",
    "dim_products.write.jdbc(url=jdbc_url, table=\"dim_products\", mode=\"overwrite\", properties=connection_properties)\n",
    "dim_sellers.write.jdbc(url=jdbc_url, table=\"dim_sellers\", mode=\"overwrite\", properties=connection_properties)\n",
    "dim_geolocation.write.jdbc(url=jdbc_url, table=\"dim_geolocation\", mode=\"overwrite\", properties=connection_properties)\n",
    "dim_time.write.jdbc(url=jdbc_url, table=\"dim_time\", mode=\"overwrite\", properties=connection_properties)\n"
   ]
  },
  {
   "cell_type": "code",
   "execution_count": null,
   "id": "93fadc91",
   "metadata": {},
   "outputs": [
    {
     "name": "stderr",
     "output_type": "stream",
     "text": [
      "                                                                                \r"
     ]
    }
   ],
   "source": [
    "# write Fact Table to Postgres\n",
    "\n",
    "fact_orders.write.jdbc(url=jdbc_url, table=\"fact_orders\", mode=\"overwrite\", properties=connection_properties)"
   ]
  },
  {
   "cell_type": "markdown",
   "id": "0c22fd27",
   "metadata": {},
   "source": [
    "## **Clean memory**"
   ]
  },
  {
   "cell_type": "code",
   "execution_count": null,
   "id": "ce7d0ba9",
   "metadata": {},
   "outputs": [
    {
     "data": {
      "text/plain": [
       "1834"
      ]
     },
     "execution_count": 51,
     "metadata": {},
     "output_type": "execute_result"
    }
   ],
   "source": [
    "# =======================================================\n",
    "# Clean up DataFrames from memory\n",
    "# =======================================================\n",
    "import gc\n",
    "\n",
    "to_delete = [\n",
    "    # Raw / Cleaned\n",
    "    \"df_customers\", \"customers_clean\",\n",
    "    \"df_order\", \"orders_clean\", \"orders_full_cleaned\", \"orders_items_joined\", \"orders_items_payments_joined\",\n",
    "    \"df_order_items\", \"order_items_clean\",\n",
    "    \"df_order_payments\", \"order_payments_clean\",\n",
    "    \"df_order_reviews\", \"order_reviews_clean\",\n",
    "    \"df_products\", \"products_clean\", \"products_enriched\", \"products_full_cleaned\",\n",
    "    \"df_product_category_translation\", \"product_category_translation_clean\",\n",
    "    \"df_sellers\", \"sellers_cleaned\",\n",
    "    \"df_geolocation\", \"geolocation_clean\", \"date_df\",\n",
    "\n",
    "    # Dimensions\n",
    "    \"dim_customers\", \"dim_products\", \"dim_sellers\", \"dim_geolocation\", \"dim_time\",\n",
    "\n",
    "    # Fact\n",
    "    \"fact_orders\"\n",
    "]\n",
    "\n",
    "# Unpersist Spark DataFrames\n",
    "for name in to_delete:\n",
    "    obj = globals().get(name)\n",
    "    if obj is not None:\n",
    "        try:\n",
    "            obj.unpersist(blocking=True)  # free cached memory in Spark\n",
    "        except AttributeError:\n",
    "            pass\n",
    "\n",
    "# Clear cache from Spark\n",
    "spark.catalog.clearCache()\n",
    "\n",
    "# Stop Spark\n",
    "spark.stop()\n",
    "\n",
    "# Delete variables from Python memory\n",
    "for name in to_delete:\n",
    "    if name in globals():\n",
    "        del globals()[name]\n",
    "\n",
    "# Force garbage collection\n",
    "gc.collect()\n"
   ]
  },
  {
   "cell_type": "code",
   "execution_count": null,
   "id": "94df4742",
   "metadata": {},
   "outputs": [],
   "source": []
  }
 ],
 "metadata": {
  "kernelspec": {
   "display_name": "Python 3 (ipykernel)",
   "language": "python",
   "name": "python3"
  },
  "language_info": {
   "codemirror_mode": {
    "name": "ipython",
    "version": 3
   },
   "file_extension": ".py",
   "mimetype": "text/x-python",
   "name": "python",
   "nbconvert_exporter": "python",
   "pygments_lexer": "ipython3",
   "version": "3.11.8"
  }
 },
 "nbformat": 4,
 "nbformat_minor": 5
}
